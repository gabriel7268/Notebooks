{
  "nbformat": 4,
  "nbformat_minor": 0,
  "metadata": {
    "colab": {
      "name": "Semana_do_Python_Hashtag_Aula_01.ipynb",
      "provenance": []
    },
    "kernelspec": {
      "name": "python3",
      "display_name": "Python 3"
    },
    "language_info": {
      "name": "python"
    }
  },
  "cells": [
    {
      "cell_type": "markdown",
      "metadata": {
        "id": "pK7rGQLQdEK9"
      },
      "source": [
        "#**Automação de Sistemas e Processos com Python**\n",
        "\n",
        "##Desafio:\n",
        "\n",
        "Atualiza as vendas do dia anterior. Envia e-mail para diretoria com faturamento e quantidade de produtos vendidos no dia anterior.\n",
        "\n",
        "Email da diretoria: gabrevedo@gmail.com  \n",
        "Local do Sistema: https://drive.google.com/drive/folders/1wRTFw0sUVBjRr4hW5U9LF7DjLixRyxym\n",
        "\n",
        "Vamos usar o pyautogui, biblioteca de automação de comandos do mouse e teclado.\n",
        "\n"
      ]
    },
    {
      "cell_type": "code",
      "metadata": {
        "id": "_b7sXvi1b4Kd"
      },
      "source": [
        "# instalar biblioteca\n",
        "# On cmd: pip install {lib name}\n",
        "\n",
        "# importar bibliotecas\n",
        "# import pyautogui #automação do mouse e teclado\n",
        "import time #controla o tempo do programa\n",
        "# import pyperclip #permite copiar e colar com o Python\n",
        "\n",
        "import pandas as pd\n",
        "import matplotlib.pyplot as plt\n",
        "import numpy as np\n",
        "import seaborn as sns\n",
        "import tensorflow as tf\n",
        "from tensorflow import keras\n",
        "from keras import Sequential"
      ],
      "execution_count": null,
      "outputs": []
    },
    {
      "cell_type": "code",
      "metadata": {
        "id": "Z6kNEOQNfFX-"
      },
      "source": [
        "pyautogui.alert('Não use o seu computador a partir de agora, código em execução!')\n",
        "\n",
        "# Passo 1: Entrar no sistema (Link do Google Drive)\n",
        "pyautogui.PAUSE = 1 #pausa por 1 segundo entre os comandos\n",
        "pyautogui.hotkey('ctrl','t') # da um ctrl+t abre nova janela\n",
        "link = 'https://drive.google.com/drive/folders/1wRTFw0sUVBjRr4hW5U9LF7DjLixRyxym'\n",
        "pyperclip.copy(link) #coloca o link na área de transferência\n",
        "pyautogui.hotkey('ctrl','v') #da um ctrl+v na barra do navegador\n",
        "pyautogui.press('enter') #da um enter\n",
        "time.sleep(5) #espera 5 segundos antes de executar a próxima instrução\n",
        "\n",
        "# Passo 2: Entrar na pasta Aula 01\n",
        "pyautogui.position() #Informa as posições x e y do mouse no momento que o código foi executado\n",
        "pyautogui.click(x, y, clicks=2) #clicks é o número de clicks, 2 = duplo clique\n",
        "\n",
        "# Passo 3: Fazer Download da Base de Vendas\n",
        "\n",
        "# Passo 4: Calcular os indicadores (Faturamento e Qtd de Produtos Vendidos do dia anterior)\n",
        "\n",
        "# Passo 5: Entrar no e-mail\n",
        "\n",
        "# Passo 6: Criar o e-mail\n",
        "\n",
        "# Passo 7: Enviar e-mail para diretoria"
      ],
      "execution_count": null,
      "outputs": []
    },
    {
      "cell_type": "code",
      "metadata": {
        "id": "xULEbA2Igc_I"
      },
      "source": [
        ""
      ],
      "execution_count": null,
      "outputs": []
    }
  ]
}